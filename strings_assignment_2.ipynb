{
  "nbformat": 4,
  "nbformat_minor": 0,
  "metadata": {
    "colab": {
      "provenance": [],
      "toc_visible": true
    },
    "kernelspec": {
      "name": "python3",
      "display_name": "Python 3"
    },
    "language_info": {
      "name": "python"
    }
  },
  "cells": [
    {
      "cell_type": "markdown",
      "source": [
        "## Strings Assignment 2"
      ],
      "metadata": {
        "id": "EPGLodluvWuN"
      }
    },
    {
      "cell_type": "markdown",
      "source": [
        "1.Write a Python program to reverse a string.\n",
        "\n",
        "input : hellohowareyoudoingandhowisyourhealth"
      ],
      "metadata": {
        "id": "ddM5gMtivkoi"
      }
    },
    {
      "cell_type": "code",
      "source": [
        "input = \"hellohowareyoudoingandhowisyourhealth\"\n",
        "print(input[::-1])"
      ],
      "metadata": {
        "id": "RnP576ZZvtLH",
        "colab": {
          "base_uri": "https://localhost:8080/"
        },
        "outputId": "a2aab309-1c7e-4ec6-8735-5b98044fb7d7"
      },
      "execution_count": null,
      "outputs": [
        {
          "output_type": "stream",
          "name": "stdout",
          "text": [
            "htlaehruoysiwohdnagnioduoyerawoholleh\n"
          ]
        }
      ]
    },
    {
      "cell_type": "markdown",
      "source": [
        "2.Write a Python program to capitalize the first letter of each word in a sentence.\n",
        "\n",
        "input : hello welcome to internship"
      ],
      "metadata": {
        "id": "jEVFoo3evnhr"
      }
    },
    {
      "cell_type": "code",
      "source": [
        "input = \"hello welcome to internship\"\n",
        "print(input.title())"
      ],
      "metadata": {
        "id": "CTP3QwiGwT93",
        "colab": {
          "base_uri": "https://localhost:8080/"
        },
        "outputId": "1ef45b1e-817e-4628-8a27-c5f48c4f10cb"
      },
      "execution_count": null,
      "outputs": [
        {
          "output_type": "stream",
          "name": "stdout",
          "text": [
            "Hello Welcome To Internship\n"
          ]
        }
      ]
    },
    {
      "cell_type": "markdown",
      "source": [
        "3.Write a Python program to find the longest word in a sentence.\n",
        "\n",
        "input : \"he is very good at painting and paint good sketches\""
      ],
      "metadata": {
        "id": "LiGvyCoVvnyC"
      }
    },
    {
      "cell_type": "code",
      "source": [
        "input = \"he is very good at painting and paint good sketches\"\n",
        "print(max(input.split(),key=len))"
      ],
      "metadata": {
        "id": "clATuC3cwwPI",
        "colab": {
          "base_uri": "https://localhost:8080/"
        },
        "outputId": "48e94613-4d91-47be-be63-3b1497ee2ac5"
      },
      "execution_count": null,
      "outputs": [
        {
          "output_type": "stream",
          "name": "stdout",
          "text": [
            "painting\n"
          ]
        }
      ]
    },
    {
      "cell_type": "markdown",
      "source": [
        "4.Write a Python program to find the length of the last word in a sentence.\n",
        "\n",
        "input : this is the most beautiful beach I ever visited"
      ],
      "metadata": {
        "id": "-QhCplQjvn0w"
      }
    },
    {
      "cell_type": "code",
      "source": [
        "input = \"this is the most beautiful beach I ever visited\"\n",
        "print(len(input.split()[-1]))"
      ],
      "metadata": {
        "id": "QwzbahlkxGZ-",
        "colab": {
          "base_uri": "https://localhost:8080/"
        },
        "outputId": "b86c61b0-6eb4-45e4-f7cc-7eff313e6e83"
      },
      "execution_count": null,
      "outputs": [
        {
          "output_type": "stream",
          "name": "stdout",
          "text": [
            "7\n"
          ]
        }
      ]
    },
    {
      "cell_type": "markdown",
      "source": [
        "5.Write a Python program to find the second most frequent character in a string.\n",
        "\n",
        "input: the hospital is very big and this hospital has so many doctors"
      ],
      "metadata": {
        "id": "cZiXxZhsvn6q"
      }
    },
    {
      "cell_type": "code",
      "source": [
        "input = \"the hospital is very big and this hospital has so many doctors\"\n",
        "\n",
        "list = {}\n",
        "\n",
        "for i in input:\n",
        "    if list.get(i) == None:\n",
        "        list[i] = 1\n",
        "        continue\n",
        "    else:\n",
        "        list[i] += 1\n",
        "\n",
        "max = 0\n",
        "charMax = ''\n",
        "secMax = 0\n",
        "secCharMax = ''\n",
        "\n",
        "for i in list.keys():\n",
        "    if list.get(i) < max and list.get(i) > secMax:\n",
        "        secMax = list.get(i)\n",
        "        secCharMax = i\n",
        "        continue\n",
        "    elif list.get(i) >= max:\n",
        "        secMax = max\n",
        "        secCharMax = charMax\n",
        "        max = list.get(i)\n",
        "        charMax = i\n",
        "# print(list)\n",
        "print(secCharMax+\" is the second most frequent Character in the string with frequency equal to \"+str(secMax))"
      ],
      "metadata": {
        "id": "EnHquuoCxi7F",
        "colab": {
          "base_uri": "https://localhost:8080/"
        },
        "outputId": "eb33176a-7cfe-4cb2-8d86-0189edc9aef8"
      },
      "execution_count": 1,
      "outputs": [
        {
          "output_type": "stream",
          "name": "stdout",
          "text": [
            "s is the second most frequent Character in the string with frequency equal to 7\n"
          ]
        }
      ]
    }
  ]
}